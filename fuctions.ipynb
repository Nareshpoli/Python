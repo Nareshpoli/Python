{
 "cells": [
  {
   "cell_type": "markdown",
   "id": "c774092c",
   "metadata": {},
   "source": [
    "### WARMUP SECTION:"
   ]
  },
  {
   "cell_type": "markdown",
   "id": "5e2809ab",
   "metadata": {},
   "source": [
    "\n",
    "LESSER OF TWO EVENS: Write a function that returns the lesser of two given numbers if both numbers are even, but returns the greater if one or both numbers are odd\n",
    "lesser_of_two_evens(2,4) --> 2\n",
    "lesser_of_two_evens(2,5) --> 5"
   ]
  },
  {
   "cell_type": "code",
   "execution_count": 1,
   "id": "cd783732",
   "metadata": {},
   "outputs": [],
   "source": [
    "def myfunc(num1,num2):\n",
    "    if (num1 % 2==0) & (num2 % 2==0):\n",
    "        return min(num1,num2)\n",
    "    else:\n",
    "        return max(num1,num2)"
   ]
  },
  {
   "cell_type": "code",
   "execution_count": 5,
   "id": "3bc5e8d2",
   "metadata": {},
   "outputs": [
    {
     "data": {
      "text/plain": [
       "8"
      ]
     },
     "execution_count": 5,
     "metadata": {},
     "output_type": "execute_result"
    }
   ],
   "source": [
    "myfunc(8,1)"
   ]
  },
  {
   "cell_type": "markdown",
   "id": "2488181b",
   "metadata": {},
   "source": [
    "ANIMAL CRACKERS: Write a function takes a two-word string and returns True if both words begin with same letter\n",
    "animal_crackers('Levelheaded Llama') --> True\n",
    "animal_crackers('Crazy Kangaroo') --> False\n"
   ]
  },
  {
   "cell_type": "code",
   "execution_count": 7,
   "id": "207ae4c3",
   "metadata": {},
   "outputs": [],
   "source": [
    "def animal_crackers(word):\n",
    "    w1,w2 = word.split()\n",
    "    if w1[0].lower() == w2[0].lower():\n",
    "        return True\n",
    "    else:\n",
    "        return False\n",
    "        "
   ]
  },
  {
   "cell_type": "code",
   "execution_count": 10,
   "id": "b12dae4f",
   "metadata": {},
   "outputs": [
    {
     "data": {
      "text/plain": [
       "False"
      ]
     },
     "execution_count": 10,
     "metadata": {},
     "output_type": "execute_result"
    }
   ],
   "source": [
    "animal_crackers('Levelheaded Olama')"
   ]
  },
  {
   "cell_type": "markdown",
   "id": "cb04c190",
   "metadata": {},
   "source": [
    "MAKES TWENTY: Given two integers, return True if the sum of the integers is 20 or if one of the integers is 20. If not, return False\n",
    "makes_twenty(20,10) --> True\n",
    "makes_twenty(12,8) --> True\n",
    "makes_twenty(2,3) --> False"
   ]
  },
  {
   "cell_type": "code",
   "execution_count": 13,
   "id": "f452e235",
   "metadata": {},
   "outputs": [],
   "source": [
    "def makes_twenty(n1,n2):\n",
    "    sum = n1+n2\n",
    "    if (n1==20)|(n2 ==20)|(sum==20):\n",
    "        return True\n",
    "    else :\n",
    "        return False"
   ]
  },
  {
   "cell_type": "code",
   "execution_count": 17,
   "id": "00175630",
   "metadata": {},
   "outputs": [
    {
     "data": {
      "text/plain": [
       "False"
      ]
     },
     "execution_count": 17,
     "metadata": {},
     "output_type": "execute_result"
    }
   ],
   "source": [
    "makes_twenty(10,21)"
   ]
  },
  {
   "cell_type": "markdown",
   "id": "37c8d5dc",
   "metadata": {},
   "source": [
    "### LEVEL 1 PROBLEMS"
   ]
  },
  {
   "cell_type": "markdown",
   "id": "f69eaf6f",
   "metadata": {},
   "source": [
    "OLD MACDONALD: Write a function that capitalizes the first and fourth letters of a name\n",
    "\n",
    "old_macdonald('macdonald') --> MacDonald\n",
    "\n",
    "Note: 'macdonald'.capitalize() returns 'Macdonald'"
   ]
  },
  {
   "cell_type": "code",
   "execution_count": 29,
   "id": "9e5c0787",
   "metadata": {},
   "outputs": [],
   "source": [
    "def caps(word):\n",
    "    result = ''\n",
    "    count = 0\n",
    "    for letter in word:\n",
    "        if (count == 0)|(count==3):\n",
    "            result += letter.upper()\n",
    "        else:\n",
    "            result += letter\n",
    "        count += 1\n",
    "        \n",
    "    return result\n",
    "    "
   ]
  },
  {
   "cell_type": "code",
   "execution_count": 30,
   "id": "938d8379",
   "metadata": {},
   "outputs": [
    {
     "data": {
      "text/plain": [
       "'MacDonald'"
      ]
     },
     "execution_count": 30,
     "metadata": {},
     "output_type": "execute_result"
    }
   ],
   "source": [
    "caps('macdonald')"
   ]
  },
  {
   "cell_type": "markdown",
   "id": "8e4d59b2",
   "metadata": {},
   "source": [
    "MASTER YODA: Given a sentence, return a sentence with the words reversed\n",
    "\n",
    "master_yoda('I am home') --> 'home am I'\n",
    "\n",
    "master_yoda('We are ready') --> 'ready are We'\n",
    "\n",
    "Note: The .join() method may be useful here. The .join() method allows you to join together strings in a list with some connector string. For example, some uses of the .join() method:\n",
    "\n",
    ">>> \"--\".join(['a','b','c'])\n",
    "\n",
    ">>> 'a--b--c'\n",
    "\n",
    "This means if you had a list of words you wanted to turn back into a sentence, you could just join them with a single space string:\n",
    "\n",
    ">>> \" \".join(['Hello','world'])\n",
    "\n",
    ">>> \"Hello world\""
   ]
  },
  {
   "cell_type": "code",
   "execution_count": 80,
   "id": "c8f46c57",
   "metadata": {},
   "outputs": [],
   "source": [
    "def reverse(word):\n",
    "    words = word.split()[::-1]\n",
    "    print(words)\n",
    "    result =' '\n",
    "    return result.join(words)"
   ]
  },
  {
   "cell_type": "code",
   "execution_count": 83,
   "id": "f94baa7c",
   "metadata": {},
   "outputs": [
    {
     "name": "stdout",
     "output_type": "stream",
     "text": [
      "['Naresh', 'am', 'I', 'Hello,']\n"
     ]
    },
    {
     "data": {
      "text/plain": [
       "'Naresh am I Hello,'"
      ]
     },
     "execution_count": 83,
     "metadata": {},
     "output_type": "execute_result"
    }
   ],
   "source": [
    "reverse('Hello, I am Naresh')"
   ]
  },
  {
   "cell_type": "markdown",
   "id": "0fbf4fb2",
   "metadata": {},
   "source": [
    "ALMOST THERE: Given an integer n, return True if n is within 10 of either 100 or 200\n",
    "almost_there(90) --> True\n",
    "almost_there(104) --> True\n",
    "almost_there(150) --> False\n",
    "almost_there(209) --> True\n",
    "\n",
    "NOTE: abs(num) returns the absolute value of a number"
   ]
  },
  {
   "cell_type": "code",
   "execution_count": 86,
   "id": "37ac3f0a",
   "metadata": {},
   "outputs": [],
   "source": [
    "def almost_there(num):\n",
    "    if (num in range(90,111)) | (num in range(190,211)):\n",
    "        return True\n",
    "    else:\n",
    "        return False\n",
    "    \n",
    "    "
   ]
  },
  {
   "cell_type": "code",
   "execution_count": 94,
   "id": "0c7188ae",
   "metadata": {},
   "outputs": [
    {
     "data": {
      "text/plain": [
       "True"
      ]
     },
     "execution_count": 94,
     "metadata": {},
     "output_type": "execute_result"
    }
   ],
   "source": [
    "almost_there(201)"
   ]
  },
  {
   "cell_type": "markdown",
   "id": "34ce6e8e",
   "metadata": {},
   "source": [
    "### Level 2 Problems"
   ]
  },
  {
   "cell_type": "markdown",
   "id": "896758cc",
   "metadata": {},
   "source": [
    "FIND 33:\n",
    "Given a list of ints, return True if the array contains a 3 next to a 3 somewhere.\n",
    "\n",
    "has_33([1, 3, 3]) → True\n",
    "\n",
    "has_33([1, 3, 1, 3]) → False\n",
    "\n",
    "has_33([3, 1, 3]) → False"
   ]
  },
  {
   "cell_type": "code",
   "execution_count": 98,
   "id": "42da59f2",
   "metadata": {},
   "outputs": [],
   "source": [
    "def has_33(list1):\n",
    "    index =0\n",
    "    for num in list1:\n",
    "        if num == 3:\n",
    "            if list1[index+1] ==3:\n",
    "                return True\n",
    "        index +=1\n",
    "    else:\n",
    "        return False\n",
    "            "
   ]
  },
  {
   "cell_type": "code",
   "execution_count": 106,
   "id": "c1c225cb",
   "metadata": {},
   "outputs": [
    {
     "data": {
      "text/plain": [
       "True"
      ]
     },
     "execution_count": 106,
     "metadata": {},
     "output_type": "execute_result"
    }
   ],
   "source": [
    "has_33([2,33,3,3,9,7,8,2])"
   ]
  },
  {
   "cell_type": "markdown",
   "id": "b861f4b4",
   "metadata": {},
   "source": [
    "PAPER DOLL: Given a string, return a string where for every character in the original there are three characters\n",
    "\n",
    "paper_doll('Hello') --> 'HHHeeellllllooo'\n",
    "\n",
    "paper_doll('Mississippi') --> 'MMMiiissssssiiippppppiii'"
   ]
  },
  {
   "cell_type": "code",
   "execution_count": 108,
   "id": "b9d80a23",
   "metadata": {},
   "outputs": [],
   "source": [
    "def paper_doll(word):\n",
    "    result = ''\n",
    "    for letter in word:\n",
    "        result += 3*letter\n",
    "    return result"
   ]
  },
  {
   "cell_type": "code",
   "execution_count": 110,
   "id": "df126f43",
   "metadata": {},
   "outputs": [
    {
     "data": {
      "text/plain": [
       "'HHHeeellllllooo'"
      ]
     },
     "execution_count": 110,
     "metadata": {},
     "output_type": "execute_result"
    }
   ],
   "source": [
    "paper_doll('Hello')"
   ]
  },
  {
   "cell_type": "markdown",
   "id": "0868480d",
   "metadata": {},
   "source": [
    "BLACKJACK: Given three integers between 1 and 11, if their sum is less than or equal to 21, return their sum. \n",
    "\n",
    "If their sum exceeds 21 and there's an eleven, reduce the total sum by 10.\n",
    "Finally, if the sum (even after adjustment) exceeds 21, return 'BUST'\n",
    "\n",
    "blackjack(5,6,7) --> 18\n",
    "\n",
    "blackjack(9,9,9) --> 'BUST'\n",
    "\n",
    "blackjack(9,9,11) --> 19"
   ]
  },
  {
   "cell_type": "code",
   "execution_count": 131,
   "id": "a97acd2a",
   "metadata": {},
   "outputs": [],
   "source": [
    "def black_jack(n1,n2,n3):\n",
    "    sum = n1+n2+n3\n",
    "    if sum <= 21:\n",
    "        return sum\n",
    "    elif (n1==11|n2==11|n3==11):\n",
    "        sum -= 10\n",
    "        if sum <=21:\n",
    "            return sum\n",
    "        else:\n",
    "            return \"BUST\"\n",
    "    else:\n",
    "        return 'BUST'\n",
    "    "
   ]
  },
  {
   "cell_type": "code",
   "execution_count": 134,
   "id": "bad7d56f",
   "metadata": {},
   "outputs": [
    {
     "data": {
      "text/plain": [
       "'BUST'"
      ]
     },
     "execution_count": 134,
     "metadata": {},
     "output_type": "execute_result"
    }
   ],
   "source": [
    "black_jack(11,11,10)"
   ]
  },
  {
   "cell_type": "markdown",
   "id": "b887ca78",
   "metadata": {},
   "source": [
    "SUMMER OF '69: Return the sum of the numbers in the array, except ignore sections of numbers starting with a 6 and extending to the next 9 (every 6 will be followed by at least one 9). Return 0 for no numbers.\n",
    "\n",
    "summer_69([1, 3, 5]) --> 9\n",
    "\n",
    "summer_69([4, 5, 6, 7, 8, 9]) --> 9\n",
    "\n",
    "summer_69([2, 1, 6, 9, 11]) --> 14"
   ]
  },
  {
   "cell_type": "code",
   "execution_count": 144,
   "id": "d4802655",
   "metadata": {},
   "outputs": [],
   "source": [
    "def summer_69(mylist):\n",
    "    sum = 0\n",
    "    check_69 = 0\n",
    "    for num in mylist:\n",
    "        if num == 6:\n",
    "            check_69 = 1\n",
    "            \n",
    "        if check_69 == 0:\n",
    "            sum += num\n",
    "        else:\n",
    "            if num==9:\n",
    "                check_69 = 0\n",
    "            else:\n",
    "                continue\n",
    "    return sum\n",
    "      "
   ]
  },
  {
   "cell_type": "code",
   "execution_count": 149,
   "id": "60347930",
   "metadata": {},
   "outputs": [
    {
     "data": {
      "text/plain": [
       "33"
      ]
     },
     "execution_count": 149,
     "metadata": {},
     "output_type": "execute_result"
    }
   ],
   "source": [
    "summer_69([1,2,3,4,5,6,6,666,6,6,6,6,69,7,8,9,8,9,1])"
   ]
  },
  {
   "cell_type": "markdown",
   "id": "d3f09314",
   "metadata": {},
   "source": [
    "### CHALLENGING PROBLEMS"
   ]
  },
  {
   "cell_type": "markdown",
   "id": "91caedb7",
   "metadata": {},
   "source": [
    "SPY GAME: Write a function that takes in a list of integers and returns True if it contains 007 in order\n",
    "    \n",
    " spy_game([1,2,4,0,0,7,5]) --> True\n",
    "\n",
    " spy_game([1,0,2,4,0,5,7]) --> True\n",
    "    \n",
    " spy_game([1,7,2,0,4,5,0]) --> False"
   ]
  },
  {
   "cell_type": "code",
   "execution_count": 157,
   "id": "7f422341",
   "metadata": {},
   "outputs": [],
   "source": [
    "def spy_game(mylist):\n",
    "    index =0\n",
    "    for num in mylist:\n",
    "        if num ==0:\n",
    "            if mylist[index+1] == 0:\n",
    "                if mylist[index+2]==7:\n",
    "                    return True\n",
    "        index += 1\n",
    "    else:\n",
    "        return False\n",
    "                "
   ]
  },
  {
   "cell_type": "code",
   "execution_count": 161,
   "id": "44a6fee4",
   "metadata": {},
   "outputs": [
    {
     "data": {
      "text/plain": [
       "False"
      ]
     },
     "execution_count": 161,
     "metadata": {},
     "output_type": "execute_result"
    }
   ],
   "source": [
    "spy_game([1,7,2,0,4,5,0,0,'7',0,0,0,8,9,4,3,0,0,6])"
   ]
  },
  {
   "cell_type": "markdown",
   "id": "83a0d96d",
   "metadata": {},
   "source": [
    "COUNT PRIMES: Write a function that returns the number of prime numbers that exist up to and including a given number\n",
    "count_primes(100) --> 25\n",
    "\n",
    "By convention, 0 and 1 are not prime."
   ]
  },
  {
   "cell_type": "code",
   "execution_count": 180,
   "id": "8e8e1c17",
   "metadata": {},
   "outputs": [],
   "source": [
    "def count_primes(num):\n",
    "    count =0\n",
    "    for n in range(2,num+1):\n",
    "        for i in range(2,n):\n",
    "            if (n%i==0):\n",
    "                print(\"not prime\")\n",
    "                break\n",
    "        else:\n",
    "            print(f\"prime:{n}\")\n",
    "            count+=1\n",
    "    return count\n",
    "        "
   ]
  },
  {
   "cell_type": "code",
   "execution_count": 181,
   "id": "7ea325f2",
   "metadata": {},
   "outputs": [
    {
     "name": "stdout",
     "output_type": "stream",
     "text": [
      "prime:2\n",
      "prime:3\n",
      "not prime\n",
      "prime:5\n",
      "not prime\n",
      "prime:7\n",
      "not prime\n",
      "not prime\n"
     ]
    },
    {
     "data": {
      "text/plain": [
       "4"
      ]
     },
     "execution_count": 181,
     "metadata": {},
     "output_type": "execute_result"
    }
   ],
   "source": [
    "count_primes(9)"
   ]
  },
  {
   "cell_type": "markdown",
   "id": "ce4a127b",
   "metadata": {},
   "source": [
    "Just for fun:\n",
    "\n",
    "PRINT BIG: Write a function that takes in a single letter, and returns a 5x5 representation of that letter\n",
    "print_big('a')\n",
    "\n",
    "\n",
    "out:   *  \n",
    "      * *\n",
    "     *****\n",
    "     *   *\n",
    "     *   *\n",
    "     \n",
    "HINT: Consider making a dictionary of possible patterns, and mapping the alphabet to specific 5-line combinations of patterns.\n",
    "For purposes of this exercise, it's ok if your dictionary stops at \"E\"."
   ]
  },
  {
   "cell_type": "code",
   "execution_count": 2,
   "id": "f50c4bfd",
   "metadata": {},
   "outputs": [],
   "source": [
    "def print_big(var):\n",
    "    def print_a():\n",
    "        print(\"  *  \\n * * \\n*****\\n*   *\\n*   *\")\n",
    "    def print_b():\n",
    "              print(\"****\\n*   * \\n**** \\n*   * \\n****\")\n",
    "            \n",
    "    map_dict = {'a':print_a,'b':print_b} \n",
    "    \n",
    "    return map_dict[var]()"
   ]
  },
  {
   "cell_type": "code",
   "execution_count": 3,
   "id": "b3546b59",
   "metadata": {},
   "outputs": [
    {
     "name": "stdout",
     "output_type": "stream",
     "text": [
      "****\n",
      "*   * \n",
      "**** \n",
      "*   * \n",
      "****\n"
     ]
    }
   ],
   "source": [
    "print_big('b')"
   ]
  },
  {
   "cell_type": "code",
   "execution_count": null,
   "id": "3fc7d60e",
   "metadata": {},
   "outputs": [],
   "source": []
  }
 ],
 "metadata": {
  "kernelspec": {
   "display_name": "Python 3 (ipykernel)",
   "language": "python",
   "name": "python3"
  },
  "language_info": {
   "codemirror_mode": {
    "name": "ipython",
    "version": 3
   },
   "file_extension": ".py",
   "mimetype": "text/x-python",
   "name": "python",
   "nbconvert_exporter": "python",
   "pygments_lexer": "ipython3",
   "version": "3.10.9"
  }
 },
 "nbformat": 4,
 "nbformat_minor": 5
}
