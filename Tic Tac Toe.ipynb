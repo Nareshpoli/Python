{
 "cells": [
  {
   "cell_type": "markdown",
   "id": "f0435a91",
   "metadata": {},
   "source": [
    "# Print Board"
   ]
  },
  {
   "cell_type": "code",
   "execution_count": null,
   "id": "beb30551",
   "metadata": {},
   "outputs": [],
   "source": []
  },
  {
   "cell_type": "code",
   "execution_count": 1,
   "id": "4d67bc7d",
   "metadata": {},
   "outputs": [],
   "source": [
    "from IPython.display import clear_output\n",
    "\n",
    "def display_board(board):#Displaying Board\n",
    "    #print(\"   |   |   \")\n",
    "    \n",
    "    print(f\" {board[0]} | {board[1]} | {board[2]}\")\n",
    "    print(\"-----------\")\n",
    "    print(f\" {board[3]} | {board[4]} | {board[5]}\")\n",
    "    print(\"-----------\")\n",
    "    print(f\" {board[6]} | {board[7]} | {board[8]}\")\n",
    "    print(\"\\n\")\n",
    "    #print(\"-------------\")"
   ]
  },
  {
   "cell_type": "code",
   "execution_count": 2,
   "id": "9f18f201",
   "metadata": {},
   "outputs": [],
   "source": [
    "def Win_check(board,mark):\n",
    "    #Checking all win conditions\n",
    "    \n",
    "    if board[0] == mark and board[1] == mark and board[2] == mark:\n",
    "        return True\n",
    "    elif board[3] == mark and board[4] == mark and board[5] == mark: \n",
    "        return True\n",
    "    elif board[6] == mark and board[7] == mark and board[8] == mark: \n",
    "        return True\n",
    "    elif board[0] == mark and board[3] == mark and board[6] == mark: \n",
    "        return True\n",
    "    elif board[1] == mark and board[4] == mark and board[7] == mark: \n",
    "        return True\n",
    "    elif board[2] == mark and board[5] == mark and board[8] == mark: \n",
    "        return True\n",
    "    elif board[0] == mark and board[4] == mark and board[8] == mark: \n",
    "        return True\n",
    "    elif board[2] == mark and board[4] == mark and board[6] == mark:\n",
    "        return True\n",
    "    else:\n",
    "        return False"
   ]
  },
  {
   "cell_type": "code",
   "execution_count": 3,
   "id": "40fd0b3b",
   "metadata": {},
   "outputs": [],
   "source": [
    "def Update_board(board,player_choice,player_num,mark):\n",
    "    player_choice = int(player_choice)\n",
    "    if board[player_choice]==' ':\n",
    "        board[player_choice]= mark\n",
    "    else:\n",
    "        print(\"Either invalid position OR the position has been taken.Please Choose another position.\")\n",
    "        Player_choice(board,player_num,mark)"
   ]
  },
  {
   "cell_type": "code",
   "execution_count": 4,
   "id": "d28a9714",
   "metadata": {},
   "outputs": [],
   "source": [
    "def Player_choice(board,player_num,mark):\n",
    "    choice = input(\"Player {} Turn.\\nChoose Your Position(1-9):\".format(player_num))\n",
    "    while choice not in ['1','2','3','4','5','6','7','8','9']:\n",
    "        print(f\"Invalid Entry.Please try again Player {player_num}\")\n",
    "        choice = input(\"Player {} Turn.\\nChoose Your Position(1-9):\".format(player_num))\n",
    "    print('\\n')\n",
    "    Update_board(board,int(choice)-1,player_num,mark)"
   ]
  },
  {
   "cell_type": "code",
   "execution_count": 5,
   "id": "73920b54",
   "metadata": {},
   "outputs": [],
   "source": [
    "def restart():\n",
    "    game = input(\"Do you want to restart the game.Type (Y/y):\")\n",
    "    game = game.upper()\n",
    "    if game=='Y':\n",
    "        clear_output()\n",
    "        Tic_Tac_Toe()\n",
    "    "
   ]
  },
  {
   "cell_type": "code",
   "execution_count": 6,
   "id": "a5b5d441",
   "metadata": {},
   "outputs": [],
   "source": [
    "def Take_player_symbols():\n",
    "    mark1 = input(\"Please enter your symbol Player1(only single character):\")\n",
    "    while(len(mark1)>1):\n",
    "        print(\"Invalid symbol. please try again\")\n",
    "        mark1 = input(\"Please enter your symbol Player1(only single character):\")\n",
    "        \n",
    "        \n",
    "    mark2 = input(\"Please enter your symbol Player2(only single charcter allowed):\")\n",
    "    while(len(mark2)>1):\n",
    "        print(\"Invalid symbol. please try again\")\n",
    "        mark2 = input(\"Please enter your symbol Player2(only single character allowed):\")\n",
    "        \n",
    "    print('\\n')\n",
    "    print(f\"Player 1 Mark :{mark1}                      Player 2 Mark :{mark2}\")\n",
    "    print('\\n')\n",
    "    return mark1,mark2\n",
    "    "
   ]
  },
  {
   "cell_type": "code",
   "execution_count": 7,
   "id": "74d79db4",
   "metadata": {},
   "outputs": [],
   "source": [
    "def full_board_check(board):\n",
    "    if ' ' in board:\n",
    "        return 'Y'\n",
    "    else:\n",
    "        print(\"Game Over\")\n",
    "        restart()\n",
    "        return 'n'\n",
    "    "
   ]
  },
  {
   "cell_type": "code",
   "execution_count": 10,
   "id": "52fd6530",
   "metadata": {},
   "outputs": [],
   "source": [
    "def Tic_Tac_Toe():\n",
    "    game_on = 'Y'\n",
    "    \n",
    "    board = [' ',' ',' ',' ',' ',' ',' ',' ',' ']\n",
    "    \n",
    "    mark1,mark2 = Take_player_symbols()\n",
    "    display_board(board)\n",
    "    \n",
    "    while(game_on == 'Y'):\n",
    "        \n",
    "        #Player1 Move\n",
    "        Player_choice(board,1,mark1)\n",
    "        \n",
    "        #display the game board\n",
    "        display_board(board)\n",
    "        \n",
    "        #check whether player1 has won\n",
    "        win = Win_check(board,mark1)\n",
    "        if win:\n",
    "            print(\"Player 1 Wins!!!!\\n GAME OVER!!!\")\n",
    "            restart()\n",
    "            clear_output()\n",
    "            return \"Thanks for playing the Game\"\n",
    "        \n",
    "        game_on = full_board_check(board)\n",
    "        \n",
    "    \n",
    "        if (game_on == 'Y'):\n",
    "            #Player 2 Move\n",
    "            Player_choice(board,2,mark2)\n",
    "            #display the game board\n",
    "            display_board(board)\n",
    "\n",
    "             #check whether player2 has won\n",
    "            win = Win_check(board,mark2)\n",
    "            if win:\n",
    "                print(\"Player 2 wins!!!!\\n GAME OVER!!!\")\n",
    "                restart()\n",
    "                clear_output()\n",
    "                return \"Thanks for playing the Game\"\n",
    "        else:\n",
    "            clear_output()\n",
    "            print(\"Thanks for playing the game\")\n",
    "            break\n",
    "\n",
    "        #game_on = (input(\"Do you want to continue (Y/y):\")).upper()\n",
    "        \n",
    "        #game_on = full_board_check(board)\n",
    "    "
   ]
  },
  {
   "cell_type": "code",
   "execution_count": 11,
   "id": "031b724a",
   "metadata": {},
   "outputs": [
    {
     "data": {
      "text/plain": [
       "'Thanks for playing the Game'"
      ]
     },
     "execution_count": 11,
     "metadata": {},
     "output_type": "execute_result"
    }
   ],
   "source": [
    "Tic_Tac_Toe()"
   ]
  },
  {
   "cell_type": "markdown",
   "id": "9662de01",
   "metadata": {},
   "source": [
    " "
   ]
  },
  {
   "cell_type": "code",
   "execution_count": null,
   "id": "8122413e",
   "metadata": {},
   "outputs": [],
   "source": []
  }
 ],
 "metadata": {
  "kernelspec": {
   "display_name": "Python 3 (ipykernel)",
   "language": "python",
   "name": "python3"
  },
  "language_info": {
   "codemirror_mode": {
    "name": "ipython",
    "version": 3
   },
   "file_extension": ".py",
   "mimetype": "text/x-python",
   "name": "python",
   "nbconvert_exporter": "python",
   "pygments_lexer": "ipython3",
   "version": "3.10.9"
  }
 },
 "nbformat": 4,
 "nbformat_minor": 5
}
