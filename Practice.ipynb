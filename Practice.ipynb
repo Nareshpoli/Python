{
 "cells": [
  {
   "cell_type": "code",
   "execution_count": 1,
   "id": "8238c143",
   "metadata": {},
   "outputs": [
    {
     "data": {
      "text/plain": [
       "'Hello!!!\\nThis is great\\nYou can type anything you want\\n'"
      ]
     },
     "execution_count": 1,
     "metadata": {},
     "output_type": "execute_result"
    }
   ],
   "source": [
    "\"\"\"Hello!!!\n",
    "This is great\n",
    "You can type anything you want\n",
    "\"\"\""
   ]
  },
  {
   "cell_type": "code",
   "execution_count": 23,
   "id": "17b0b370",
   "metadata": {},
   "outputs": [
    {
     "name": "stdout",
     "output_type": "stream",
     "text": [
      "[1, 2, 3, 4, 5, 6, 7, 8] <class 'list'>\n",
      "[6, 7, 8, 9, 10] <class 'list'>\n",
      "['H', 'e', 'l', 'l', 'o', '.', '.', '.'] <class 'list'>\n"
     ]
    }
   ],
   "source": [
    "list1 = list({1,2,3,4,5,6,7,8})\n",
    "list2 = [6,7,8,9,10,]\n",
    "var = 'Hello...'\n",
    "list3 = list(var)\n",
    "\n",
    "print(list1,type(list1))\n",
    "print(list2,type(list2))\n",
    "print(list3,type(list3))"
   ]
  },
  {
   "cell_type": "code",
   "execution_count": 11,
   "id": "c910996d",
   "metadata": {},
   "outputs": [
    {
     "name": "stdout",
     "output_type": "stream",
     "text": [
      "[3, 4] 5\n"
     ]
    }
   ],
   "source": [
    "list_seg = list1[2:4]\n",
    "list_seg2 = list1[4]\n",
    "print(list_seg,list_seg2)"
   ]
  },
  {
   "cell_type": "code",
   "execution_count": 19,
   "id": "3cca5d92",
   "metadata": {},
   "outputs": [
    {
     "name": "stdout",
     "output_type": "stream",
     "text": [
      "('H', 'e', 'l', 'l', 'o', '.', '.', '.')\n",
      ".\n",
      "('H', 'E', 'L', 'L', 'O', '!', '!', '!')\n"
     ]
    }
   ],
   "source": [
    "tup = tuple(list3)\n",
    "print(tup)\n",
    "tup1 = tup[5]\n",
    "tup = ('H','E','L','L','O','!','!','!')\n",
    "print(tup1)\n",
    "print(tup)"
   ]
  },
  {
   "cell_type": "code",
   "execution_count": 48,
   "id": "61f58235",
   "metadata": {},
   "outputs": [
    {
     "name": "stdout",
     "output_type": "stream",
     "text": [
      "{'H': 1, 'e': 2, 'l': 4, 'o': 5, '.': 8} {'Naresh': 23, 'sunil': 24, 'Kalyan': 22}\n",
      "23\n",
      "Naresh is 23 years old.\n",
      "sunil is 24 years old.\n",
      "Kalyan is 22 years old.\n",
      "Ragha is 25 years old.\n",
      "{'Naresh': 23, 'sunil': 24, 'Kalyan': 22, 'Ragha': 23}\n",
      "Naresh is 23 years old.\n",
      "sunil is 24 years old.\n",
      "Kalyan is 22 years old.\n",
      "Ragha is 23 years old.\n"
     ]
    }
   ],
   "source": [
    "dictionary = zip(list3,list1)\n",
    "dict_1 = dict(dictionary)\n",
    "dict_2 = {\"Naresh\":23,\"sunil\":24,\"Kalyan\":22}\n",
    "\n",
    "print(dict_1,dict_2)\n",
    "print(dict_2[\"Naresh\"])\n",
    "\n",
    "dict_2[\"Ragha\"] = 25\n",
    "for name,age in dict_2.items():\n",
    "    print(f\"{name} is {age} years old.\")\n",
    "  \n",
    "\n",
    "dict_2[\"Ragha\"] = 23\n",
    "print(dict_2)\n",
    "\n",
    "#ListComprhension\n",
    "age_print = [print(f\"{name} is {age} years old.\") for name,age in dict_2.items()]"
   ]
  },
  {
   "cell_type": "code",
   "execution_count": 44,
   "id": "4649736e",
   "metadata": {},
   "outputs": [
    {
     "name": "stdout",
     "output_type": "stream",
     "text": [
      "2 is a prime number\n",
      "3 is a prime number\n",
      "4 is not a prime number\n",
      "5 is a prime number\n",
      "6 is not a prime number\n",
      "7 is a prime number\n",
      "8 is not a prime number\n",
      "9 is not a prime number\n",
      "10 is not a prime number\n",
      "11 is a prime number\n",
      "12 is not a prime number\n",
      "13 is a prime number\n",
      "14 is not a prime number\n",
      "15 is not a prime number\n",
      "16 is not a prime number\n",
      "17 is a prime number\n",
      "18 is not a prime number\n",
      "19 is a prime number\n",
      "20 is not a prime number\n"
     ]
    }
   ],
   "source": [
    "for N in range(2,21):\n",
    "    for i in range(2,N):\n",
    "        if N%i == 0:\n",
    "            print(f\"{N} is not a prime number\")\n",
    "            break\n",
    "    else:\n",
    "        print(f\"{N} is a prime number\")"
   ]
  },
  {
   "cell_type": "code",
   "execution_count": 51,
   "id": "ef709432",
   "metadata": {},
   "outputs": [
    {
     "name": "stdout",
     "output_type": "stream",
     "text": [
      "[0, 2, 4, 6, 8, 10, 12, 14, 16, 18]\n",
      "[0, 4, 8, 12, 16]\n"
     ]
    }
   ],
   "source": [
    "#List_Comprehensions\n",
    "print([x*2 for x in range(10)])\n",
    "\n",
    "#with conditions\n",
    "print([x*2 for x in range(10) if x%2 ==0])"
   ]
  },
  {
   "cell_type": "code",
   "execution_count": 53,
   "id": "10b02a02",
   "metadata": {},
   "outputs": [
    {
     "name": "stdout",
     "output_type": "stream",
     "text": [
      "{'Sunil': 6, 'Ragha': 9}\n"
     ]
    }
   ],
   "source": [
    "friends = [\"Naresh\",\"Kalyan\",\"Sunil\",\"Ragha\"]\n",
    "guests= {'NARESH','KALYAN'}\n",
    "time_since_seen = (2,3,6,9)\n",
    "\n",
    "#Dictionary comprehensions\n",
    "long_timers = {friends[i]:time_since_seen[i] for i in range(len(friends)) if time_since_seen[i]>5}\n",
    "print(long_timers)"
   ]
  },
  {
   "cell_type": "code",
   "execution_count": 60,
   "id": "c2090314",
   "metadata": {},
   "outputs": [
    {
     "name": "stdout",
     "output_type": "stream",
     "text": [
      "{'kalyan', 'naresh'}\n"
     ]
    }
   ],
   "source": [
    "#Set_Comprehensions\n",
    "friends = set(friends)\n",
    "friends_l = { name.lower() for name in friends}\n",
    "guests_l = { name.lower() for name in guests}\n",
    "\n",
    "guest_friends = friends_l.intersection(guests_l)\n",
    "print(guest_friends)\n"
   ]
  },
  {
   "cell_type": "markdown",
   "id": "65ce7717",
   "metadata": {},
   "source": [
    "# Functions\n"
   ]
  },
  {
   "cell_type": "code",
   "execution_count": 6,
   "id": "8e39ee24",
   "metadata": {},
   "outputs": [
    {
     "name": "stdout",
     "output_type": "stream",
     "text": [
      "Enter Your Name:Naresh\n",
      "Hello !!! Naresh\n"
     ]
    }
   ],
   "source": [
    "#Function Greet\n",
    "\n",
    "name = input(\"Enter Your Name:\")\n",
    "\n",
    "def Greet(person = \"Friend\"):\n",
    "    \n",
    "    print(f\"Hello !!! {person}\")\n",
    "\n",
    "#First Order Functions\n",
    "Hello = Greet\n",
    "Hello(name)"
   ]
  },
  {
   "cell_type": "code",
   "execution_count": 4,
   "id": "6dc5a218",
   "metadata": {
    "scrolled": true
   },
   "outputs": [
    {
     "data": {
      "text/plain": [
       "3.0"
      ]
     },
     "execution_count": 4,
     "metadata": {},
     "output_type": "execute_result"
    }
   ],
   "source": [
    "#Lambda Function\n",
    "(lambda x,y:x/y)(6,2)\n"
   ]
  },
  {
   "cell_type": "markdown",
   "id": "fee83fd0",
   "metadata": {},
   "source": [
    "# Classes\n"
   ]
  },
  {
   "cell_type": "code",
   "execution_count": null,
   "id": "ce4f7460",
   "metadata": {},
   "outputs": [],
   "source": []
  },
  {
   "cell_type": "code",
   "execution_count": 101,
   "id": "56f65037",
   "metadata": {},
   "outputs": [
    {
     "name": "stdout",
     "output_type": "stream",
     "text": [
      "Average of Naresh is :77.2\n",
      "Average of Sunil is:77.2\n"
     ]
    }
   ],
   "source": [
    "\n",
    "\n",
    "class Student:\n",
    "    \n",
    "    def __init__(self,name,grade):\n",
    "        self.name = name\n",
    "        self.grades = grade\n",
    "    \n",
    "    def average(self):\n",
    "        return sum(self.grades)/len(self.grades)\n",
    " \n",
    "    \n",
    "Student_1 = Student('Naresh',[80,82,71,65,88])\n",
    "Student_2 = Student(\"Sunil\",[82,92,61,60,91])\n",
    "print(f\"Average of {Student_1.name} is :{Student_1.average()}\\nAverage of {Student_2.name} is:{Student_2.average()}\")\n"
   ]
  },
  {
   "cell_type": "code",
   "execution_count": 26,
   "id": "732d7653",
   "metadata": {},
   "outputs": [
    {
     "name": "stdout",
     "output_type": "stream",
     "text": [
      "Kalyan has 77.2 average and gets 14K as a salary\n"
     ]
    }
   ],
   "source": [
    "class Working_Student(Student):\n",
    "    \n",
    "    def __init__(self,name,grade,salary):\n",
    "        super().__init__(name,grade)\n",
    "        self.salary = salary\n",
    "        \n",
    "kalyan = Working_Student(\"Kalyan\",[84,95,63,66,78],14)\n",
    "print(f\"{kalyan.name} has {kalyan.average()} average and gets {kalyan.salary}K as a salary\")"
   ]
  },
  {
   "cell_type": "code",
   "execution_count": 70,
   "id": "d49ce0a8",
   "metadata": {
    "scrolled": true
   },
   "outputs": [
    {
     "name": "stdout",
     "output_type": "stream",
     "text": [
      "Hi!!! My name is Naresh\n",
      "Hi!!! My name is Sunil\n",
      "Average of Naresh is :77.2\n",
      "Average of Sunil is:77.2\n",
      "Kalyan has 77.2 average and gets 14K as a salary\n"
     ]
    }
   ],
   "source": [
    "#Class and Static methods\n",
    "class Student:\n",
    "    \n",
    "    def __init__(self,name,grade):\n",
    "        self.name = name\n",
    "        self.grades = grade\n",
    "        \n",
    "    @classmethod   #self/cls is a default argument .self.grades throws error\n",
    "    def average(self,grades):\n",
    "        return sum(grades)/len(grades)\n",
    "    \n",
    "    @staticmethod  #arguments must be passed\n",
    "    def introduce(name):\n",
    "        msg = f\"Hi!!! My name is {name}\"\n",
    "        return msg\n",
    "    \n",
    "class Working_Student(Student):\n",
    "    \n",
    "    def __init__(self,name,grade,salary):\n",
    "        super().__init__(name,grade)\n",
    "        self.salary = salary\n",
    "        \n",
    "\n",
    "    \n",
    "naresh_grades = [80,82,71,65,88]\n",
    "sunil_grades = [82,92,61,60,91]\n",
    "kalyan_grades = [84,95,63,66,78]\n",
    "\n",
    "Student_1 = Student('Naresh',naresh_grades)\n",
    "Student_2 = Student(\"Sunil\",sunil_grades)\n",
    "print(Student_1.introduce('Naresh'),Student_2.introduce(\"Sunil\"),sep='\\n')\n",
    "print(f\"Average of {Student_1.name} is :{Student_1.average(naresh_grades)}\\nAverage of {Student_2.name} is:{Student_2.average(sunil_grades)}\")\n",
    "\n",
    "kalyan.introduce(\"Kalyan\")\n",
    "#cant execute static method from another class if it is inherited\n",
    "    \n",
    "kalyan = Working_Student(\"Kalyan\",kalyan_grades,14)\n",
    "print(f\"{kalyan.name} has {kalyan.average(kalyan_grades)} average and gets {kalyan.salary}K as a salary\")\n"
   ]
  },
  {
   "cell_type": "code",
   "execution_count": 100,
   "id": "923098a5",
   "metadata": {},
   "outputs": [
    {
     "name": "stdout",
     "output_type": "stream",
     "text": [
      "ValueError \n",
      "Invalid Value : 45\n"
     ]
    }
   ],
   "source": [
    "class My_Custom_Error(ValueError):\n",
    "    def __init__(self,wrong_value):\n",
    "        super().__init__(f\"Invalid Value : {wrong_value}\")\n",
    "        \n",
    "    \n",
    " \n",
    "try:\n",
    "    raise My_Custom_Error()\n",
    "except TypeError:\n",
    "    print(f\"ValueError \\n{My_Custom_Error(45)}\")\n",
    "else:\n",
    "    raise My_Custom_Error('45')\n"
   ]
  },
  {
   "cell_type": "markdown",
   "id": "7b922e30",
   "metadata": {},
   "source": [
    "# Generator"
   ]
  },
  {
   "cell_type": "code",
   "execution_count": 116,
   "id": "b4a95581",
   "metadata": {},
   "outputs": [
    {
     "data": {
      "text/plain": [
       "1"
      ]
     },
     "execution_count": 116,
     "metadata": {},
     "output_type": "execute_result"
    }
   ],
   "source": [
    "def gen_number():\n",
    "    x=[1,2,3,4,5]\n",
    "    for i in x:\n",
    "        yield i**2\n",
    "\n",
    "result = gen_number()\n",
    "next(result)\n"
   ]
  },
  {
   "cell_type": "code",
   "execution_count": 117,
   "id": "c19f7e40",
   "metadata": {},
   "outputs": [
    {
     "data": {
      "text/plain": [
       "4"
      ]
     },
     "execution_count": 117,
     "metadata": {},
     "output_type": "execute_result"
    }
   ],
   "source": []
  },
  {
   "cell_type": "code",
   "execution_count": 3,
   "id": "ffc31324",
   "metadata": {},
   "outputs": [
    {
     "data": {
      "text/plain": [
       "0.6"
      ]
     },
     "execution_count": 3,
     "metadata": {},
     "output_type": "execute_result"
    }
   ],
   "source": [
    "3/5\n"
   ]
  },
  {
   "cell_type": "code",
   "execution_count": 7,
   "id": "c5d9d818",
   "metadata": {},
   "outputs": [],
   "source": [
    "list1 = [1, 3]\n",
    "list2 = list1[:]\n"
   ]
  },
  {
   "cell_type": "code",
   "execution_count": 8,
   "id": "f8c4d92b",
   "metadata": {},
   "outputs": [
    {
     "name": "stdout",
     "output_type": "stream",
     "text": [
      "[1, 3]\n"
     ]
    }
   ],
   "source": [
    "list1[0] = 4\n",
    "print(list2)"
   ]
  },
  {
   "cell_type": "code",
   "execution_count": null,
   "id": "a24e339e",
   "metadata": {},
   "outputs": [],
   "source": []
  }
 ],
 "metadata": {
  "kernelspec": {
   "display_name": "Python 3 (ipykernel)",
   "language": "python",
   "name": "python3"
  },
  "language_info": {
   "codemirror_mode": {
    "name": "ipython",
    "version": 3
   },
   "file_extension": ".py",
   "mimetype": "text/x-python",
   "name": "python",
   "nbconvert_exporter": "python",
   "pygments_lexer": "ipython3",
   "version": "3.10.9"
  }
 },
 "nbformat": 4,
 "nbformat_minor": 5
}
